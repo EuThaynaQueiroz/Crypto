{
 "cells": [
  {
   "cell_type": "code",
   "execution_count": null,
   "metadata": {},
   "outputs": [
    {
     "name": "stdout",
     "output_type": "stream",
     "text": [
      "Rodando no VSCode... 🚀\n",
      "Página 1/4 coletada com sucesso ✅\n",
      "Página 2/4 coletada com sucesso ✅\n",
      "Página 3/4 coletada com sucesso ✅\n",
      "Página 4/4 coletada com sucesso ✅\n"
     ]
    },
    {
     "name": "stderr",
     "output_type": "stream",
     "text": [
      "c:\\Users\\F44622675838\\OneDrive - DIAGNOSTICOS DA AMERICA S.A\\Área de Trabalho\\Python\\DASA\\.venv\\Lib\\site-packages\\google\\cloud\\bigquery\\_pandas_helpers.py:489: FutureWarning: Loading pandas DataFrame into BigQuery will require pandas-gbq package version 0.26.1 or greater in the future. Tried to import pandas-gbq and got: No module named 'pandas_gbq'\n",
      "  warnings.warn(\n"
     ]
    },
    {
     "name": "stdout",
     "output_type": "stream",
     "text": [
      "Dados enviados para nav-prd.temp_dataset.teste_currencies com sucesso.✅\n"
     ]
    },
    {
     "name": "stderr",
     "output_type": "stream",
     "text": [
      "c:\\Users\\F44622675838\\OneDrive - DIAGNOSTICOS DA AMERICA S.A\\Área de Trabalho\\Python\\DASA\\.venv\\Lib\\site-packages\\google\\cloud\\bigquery\\_pandas_helpers.py:489: FutureWarning: Loading pandas DataFrame into BigQuery will require pandas-gbq package version 0.26.1 or greater in the future. Tried to import pandas-gbq and got: No module named 'pandas_gbq'\n",
      "  warnings.warn(\n"
     ]
    },
    {
     "name": "stdout",
     "output_type": "stream",
     "text": [
      "Dados enviados para nav-prd.temp_dataset.teste_currency_prices com sucesso.✅\n",
      "✅ Script finalizado!\n"
     ]
    }
   ],
   "source": [
    "import time\n",
    "import pandas as pd\n",
    "import requests\n",
    "from google.cloud import bigquery\n",
    "from datetime import datetime, timezone\n",
    "from google.oauth2 import service_account\n",
    "\n",
    "# Configurações iniciais\n",
    "# Quem for testar deve colocar o caminho para a chave de serviço (arquivo .json) do seu próprio projeto\n",
    "key_path = \"CAMINHO/DA/SUA/CHAVE/service_account.json\"  # Substitua com o caminho do arquivo de chave do seu projeto \n",
    "credentials = service_account.Credentials.from_service_account_file(\n",
    "    key_path, scopes=[\"https://www.googleapis.com/auth/cloud-platform\"]\n",
    ")\n",
    "\n",
    "# Inicializando cliente do BigQuery\n",
    "bigquery_client = bigquery.Client(credentials=credentials, project=credentials.project_id)\n",
    "\n",
    "# Configurações da carga dos dados\n",
    "load_to_bigquery = True  # True para salvar no BQ e False para salvar localmente em CSV\n",
    "\n",
    "def collect_data():\n",
    "    url = \"https://api.coingecko.com/api/v3/coins/markets\"\n",
    "    vs_currency = 'usd'\n",
    "    per_page = 250  # O máximo que a API permite por página\n",
    "    total_pages = 4  # O máximo de páginas para evitar erro 429\n",
    "\n",
    "    all_data = []\n",
    "\n",
    "    for page in range(1, total_pages + 1):\n",
    "        params = {\n",
    "            'vs_currency': vs_currency,\n",
    "            'order': 'market_cap_desc',\n",
    "            'per_page': per_page,\n",
    "            'page': page,\n",
    "            'sparkline': False\n",
    "        }\n",
    "        response = requests.get(url, params=params)\n",
    "        response.raise_for_status()\n",
    "        page_data = response.json()\n",
    "        all_data.extend(page_data)\n",
    "        print(f\"Página {page}/{total_pages} coletada com sucesso ✅\")\n",
    "        time.sleep(1) # Pra evitar o limite da API antes da página 4\n",
    "    \n",
    "    df = pd.DataFrame(all_data)\n",
    "    return df\n",
    "\n",
    "def preprocess_data(df):\n",
    "    df[\"timestamp_utc\"] = datetime.now(timezone.utc)\n",
    "    return df\n",
    "\n",
    "def upload_to_bigquery(df, table_id):\n",
    "    job_config = bigquery.LoadJobConfig(\n",
    "        write_disposition=\"WRITE_APPEND\",\n",
    "        autodetect=True\n",
    "    )\n",
    "    job = bigquery_client.load_table_from_dataframe(df, table_id, job_config=job_config)\n",
    "    job.result()\n",
    "    print(f\"Dados enviados para {table_id} com sucesso.✅\")\n",
    "\n",
    "# Função para inserir dados na tabela de criptomoedas\n",
    "def insert_into_cryptocurrencies(df):\n",
    "    cryptocurrencies_df = df[['id', 'name', 'symbol', 'market_cap_rank', 'last_updated']].copy()\n",
    "\n",
    "    if load_to_bigquery:\n",
    "        project_id = \"SEU_ID_DE_PROJETO\"  # Substitua pelo ID do seu projeto no GCP\n",
    "        dataset_id = \"SEU_DATASET_ID\"  # Substitua pelo ID do seu dataset no BigQuery\n",
    "        table_id = f\"{project_id}.{dataset_id}.currencies\"\n",
    "        upload_to_bigquery(cryptocurrencies_df, table_id)\n",
    "    else:\n",
    "        cryptocurrencies_df.to_csv(\"cryptos_currencies.csv\", index=False)\n",
    "        print(\"⚠️ Dados de criptomoedas salvos localmente como CSV (cryptos_currencies.csv)\")\n",
    "\n",
    "# Função para inserir dados na tabela de preços\n",
    "def insert_into_cryptocurrency_prices(df):\n",
    "    prices_df = df[['id', 'current_price', 'market_cap', 'total_volume', 'timestamp_utc']].copy()\n",
    "\n",
    "    if load_to_bigquery:\n",
    "        project_id = \"SEU_ID_DE_PROJETO\"  # Substitua pelo ID do seu projeto no GCP\n",
    "        dataset_id = \"SEU_DATASET_ID\"  # Substitua pelo ID do seu dataset no BigQuery\n",
    "        table_id = f\"{project_id}.{dataset_id}.currency_prices\"\n",
    "        upload_to_bigquery(prices_df, table_id)\n",
    "    else:\n",
    "        prices_df.to_csv(\"cryptos_prices.csv\", index=False)\n",
    "        print(\"⚠️ Dados de preços salvos localmente como CSV (cryptos_prices.csv)\")\n",
    "\n",
    "# Execução Principal\n",
    "if __name__ == \"__main__\":\n",
    "    print(\"Rodando no VSCode... 🚀\")\n",
    "\n",
    "    # Coletar e preparar os dados\n",
    "    df = collect_data()\n",
    "    df = preprocess_data(df)\n",
    "\n",
    "    # Inserir nas tabelas\n",
    "    insert_into_cryptocurrencies(df)\n",
    "    insert_into_cryptocurrency_prices(df)\n",
    "\n",
    "    print(\"✅ Script finalizado!\")\n"
   ]
  }
 ],
 "metadata": {
  "kernelspec": {
   "display_name": ".venv",
   "language": "python",
   "name": "python3"
  },
  "language_info": {
   "codemirror_mode": {
    "name": "ipython",
    "version": 3
   },
   "file_extension": ".py",
   "mimetype": "text/x-python",
   "name": "python",
   "nbconvert_exporter": "python",
   "pygments_lexer": "ipython3",
   "version": "3.12.5"
  }
 },
 "nbformat": 4,
 "nbformat_minor": 2
}
